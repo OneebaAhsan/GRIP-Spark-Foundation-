{
    "cells": [
        {
            "cell_type": "markdown",
            "source": [
                "### Oneeba Ahsan\r\n",
                "### Task # 6\r\n",
                "### Prediction using Decision Tree Algorithm\r\n",
                "### Level - Intermediate"
            ],
            "metadata": {}
        },
        {
            "cell_type": "markdown",
            "source": [
                "# Import necessary libraries"
            ],
            "metadata": {}
        },
        {
            "cell_type": "code",
            "execution_count": 221,
            "source": [
                "import pandas as pd\r\n",
                "import numpy as np\r\n",
                "from sklearn.neighbors import KNeighborsClassifier\r\n",
                "from sklearn.tree import DecisionTreeClassifier,plot_tree\r\n",
                "from sklearn.metrics import accuracy_score\r\n",
                "import matplotlib as plt"
            ],
            "outputs": [],
            "metadata": {}
        },
        {
            "cell_type": "markdown",
            "source": [
                "# Read the data file"
            ],
            "metadata": {}
        },
        {
            "cell_type": "code",
            "execution_count": 222,
            "source": [
                "#data = pd.read_csv('./iris.csv')\r\n",
                "data = pd.read_csv('./iris.csv')\r\n",
                "data"
            ],
            "outputs": [
                {
                    "output_type": "execute_result",
                    "data": {
                        "text/plain": [
                            "      Id  SepalLengthCm  SepalWidthCm  PetalLengthCm  PetalWidthCm  \\\n",
                            "0      1            5.1           3.5            1.4           0.2   \n",
                            "1      2            4.9           3.0            1.4           0.2   \n",
                            "2      3            4.7           3.2            1.3           0.2   \n",
                            "3      4            4.6           3.1            1.5           0.2   \n",
                            "4      5            5.0           3.6            1.4           0.2   \n",
                            "..   ...            ...           ...            ...           ...   \n",
                            "145  146            6.7           3.0            5.2           2.3   \n",
                            "146  147            6.3           2.5            5.0           1.9   \n",
                            "147  148            6.5           3.0            5.2           2.0   \n",
                            "148  149            6.2           3.4            5.4           2.3   \n",
                            "149  150            5.9           3.0            5.1           1.8   \n",
                            "\n",
                            "            Species  \n",
                            "0       Iris-setosa  \n",
                            "1       Iris-setosa  \n",
                            "2       Iris-setosa  \n",
                            "3       Iris-setosa  \n",
                            "4       Iris-setosa  \n",
                            "..              ...  \n",
                            "145  Iris-virginica  \n",
                            "146  Iris-virginica  \n",
                            "147  Iris-virginica  \n",
                            "148  Iris-virginica  \n",
                            "149  Iris-virginica  \n",
                            "\n",
                            "[150 rows x 6 columns]"
                        ],
                        "text/html": [
                            "<div>\n",
                            "<style scoped>\n",
                            "    .dataframe tbody tr th:only-of-type {\n",
                            "        vertical-align: middle;\n",
                            "    }\n",
                            "\n",
                            "    .dataframe tbody tr th {\n",
                            "        vertical-align: top;\n",
                            "    }\n",
                            "\n",
                            "    .dataframe thead th {\n",
                            "        text-align: right;\n",
                            "    }\n",
                            "</style>\n",
                            "<table border=\"1\" class=\"dataframe\">\n",
                            "  <thead>\n",
                            "    <tr style=\"text-align: right;\">\n",
                            "      <th></th>\n",
                            "      <th>Id</th>\n",
                            "      <th>SepalLengthCm</th>\n",
                            "      <th>SepalWidthCm</th>\n",
                            "      <th>PetalLengthCm</th>\n",
                            "      <th>PetalWidthCm</th>\n",
                            "      <th>Species</th>\n",
                            "    </tr>\n",
                            "  </thead>\n",
                            "  <tbody>\n",
                            "    <tr>\n",
                            "      <th>0</th>\n",
                            "      <td>1</td>\n",
                            "      <td>5.1</td>\n",
                            "      <td>3.5</td>\n",
                            "      <td>1.4</td>\n",
                            "      <td>0.2</td>\n",
                            "      <td>Iris-setosa</td>\n",
                            "    </tr>\n",
                            "    <tr>\n",
                            "      <th>1</th>\n",
                            "      <td>2</td>\n",
                            "      <td>4.9</td>\n",
                            "      <td>3.0</td>\n",
                            "      <td>1.4</td>\n",
                            "      <td>0.2</td>\n",
                            "      <td>Iris-setosa</td>\n",
                            "    </tr>\n",
                            "    <tr>\n",
                            "      <th>2</th>\n",
                            "      <td>3</td>\n",
                            "      <td>4.7</td>\n",
                            "      <td>3.2</td>\n",
                            "      <td>1.3</td>\n",
                            "      <td>0.2</td>\n",
                            "      <td>Iris-setosa</td>\n",
                            "    </tr>\n",
                            "    <tr>\n",
                            "      <th>3</th>\n",
                            "      <td>4</td>\n",
                            "      <td>4.6</td>\n",
                            "      <td>3.1</td>\n",
                            "      <td>1.5</td>\n",
                            "      <td>0.2</td>\n",
                            "      <td>Iris-setosa</td>\n",
                            "    </tr>\n",
                            "    <tr>\n",
                            "      <th>4</th>\n",
                            "      <td>5</td>\n",
                            "      <td>5.0</td>\n",
                            "      <td>3.6</td>\n",
                            "      <td>1.4</td>\n",
                            "      <td>0.2</td>\n",
                            "      <td>Iris-setosa</td>\n",
                            "    </tr>\n",
                            "    <tr>\n",
                            "      <th>...</th>\n",
                            "      <td>...</td>\n",
                            "      <td>...</td>\n",
                            "      <td>...</td>\n",
                            "      <td>...</td>\n",
                            "      <td>...</td>\n",
                            "      <td>...</td>\n",
                            "    </tr>\n",
                            "    <tr>\n",
                            "      <th>145</th>\n",
                            "      <td>146</td>\n",
                            "      <td>6.7</td>\n",
                            "      <td>3.0</td>\n",
                            "      <td>5.2</td>\n",
                            "      <td>2.3</td>\n",
                            "      <td>Iris-virginica</td>\n",
                            "    </tr>\n",
                            "    <tr>\n",
                            "      <th>146</th>\n",
                            "      <td>147</td>\n",
                            "      <td>6.3</td>\n",
                            "      <td>2.5</td>\n",
                            "      <td>5.0</td>\n",
                            "      <td>1.9</td>\n",
                            "      <td>Iris-virginica</td>\n",
                            "    </tr>\n",
                            "    <tr>\n",
                            "      <th>147</th>\n",
                            "      <td>148</td>\n",
                            "      <td>6.5</td>\n",
                            "      <td>3.0</td>\n",
                            "      <td>5.2</td>\n",
                            "      <td>2.0</td>\n",
                            "      <td>Iris-virginica</td>\n",
                            "    </tr>\n",
                            "    <tr>\n",
                            "      <th>148</th>\n",
                            "      <td>149</td>\n",
                            "      <td>6.2</td>\n",
                            "      <td>3.4</td>\n",
                            "      <td>5.4</td>\n",
                            "      <td>2.3</td>\n",
                            "      <td>Iris-virginica</td>\n",
                            "    </tr>\n",
                            "    <tr>\n",
                            "      <th>149</th>\n",
                            "      <td>150</td>\n",
                            "      <td>5.9</td>\n",
                            "      <td>3.0</td>\n",
                            "      <td>5.1</td>\n",
                            "      <td>1.8</td>\n",
                            "      <td>Iris-virginica</td>\n",
                            "    </tr>\n",
                            "  </tbody>\n",
                            "</table>\n",
                            "<p>150 rows × 6 columns</p>\n",
                            "</div>"
                        ]
                    },
                    "metadata": {},
                    "execution_count": 222
                }
            ],
            "metadata": {}
        },
        {
            "cell_type": "code",
            "execution_count": 223,
            "source": [
                "data.set_index('Id', inplace = True)  #set Id as Index \r\n",
                "data"
            ],
            "outputs": [
                {
                    "output_type": "execute_result",
                    "data": {
                        "text/plain": [
                            "     SepalLengthCm  SepalWidthCm  PetalLengthCm  PetalWidthCm         Species\n",
                            "Id                                                                           \n",
                            "1              5.1           3.5            1.4           0.2     Iris-setosa\n",
                            "2              4.9           3.0            1.4           0.2     Iris-setosa\n",
                            "3              4.7           3.2            1.3           0.2     Iris-setosa\n",
                            "4              4.6           3.1            1.5           0.2     Iris-setosa\n",
                            "5              5.0           3.6            1.4           0.2     Iris-setosa\n",
                            "..             ...           ...            ...           ...             ...\n",
                            "146            6.7           3.0            5.2           2.3  Iris-virginica\n",
                            "147            6.3           2.5            5.0           1.9  Iris-virginica\n",
                            "148            6.5           3.0            5.2           2.0  Iris-virginica\n",
                            "149            6.2           3.4            5.4           2.3  Iris-virginica\n",
                            "150            5.9           3.0            5.1           1.8  Iris-virginica\n",
                            "\n",
                            "[150 rows x 5 columns]"
                        ],
                        "text/html": [
                            "<div>\n",
                            "<style scoped>\n",
                            "    .dataframe tbody tr th:only-of-type {\n",
                            "        vertical-align: middle;\n",
                            "    }\n",
                            "\n",
                            "    .dataframe tbody tr th {\n",
                            "        vertical-align: top;\n",
                            "    }\n",
                            "\n",
                            "    .dataframe thead th {\n",
                            "        text-align: right;\n",
                            "    }\n",
                            "</style>\n",
                            "<table border=\"1\" class=\"dataframe\">\n",
                            "  <thead>\n",
                            "    <tr style=\"text-align: right;\">\n",
                            "      <th></th>\n",
                            "      <th>SepalLengthCm</th>\n",
                            "      <th>SepalWidthCm</th>\n",
                            "      <th>PetalLengthCm</th>\n",
                            "      <th>PetalWidthCm</th>\n",
                            "      <th>Species</th>\n",
                            "    </tr>\n",
                            "    <tr>\n",
                            "      <th>Id</th>\n",
                            "      <th></th>\n",
                            "      <th></th>\n",
                            "      <th></th>\n",
                            "      <th></th>\n",
                            "      <th></th>\n",
                            "    </tr>\n",
                            "  </thead>\n",
                            "  <tbody>\n",
                            "    <tr>\n",
                            "      <th>1</th>\n",
                            "      <td>5.1</td>\n",
                            "      <td>3.5</td>\n",
                            "      <td>1.4</td>\n",
                            "      <td>0.2</td>\n",
                            "      <td>Iris-setosa</td>\n",
                            "    </tr>\n",
                            "    <tr>\n",
                            "      <th>2</th>\n",
                            "      <td>4.9</td>\n",
                            "      <td>3.0</td>\n",
                            "      <td>1.4</td>\n",
                            "      <td>0.2</td>\n",
                            "      <td>Iris-setosa</td>\n",
                            "    </tr>\n",
                            "    <tr>\n",
                            "      <th>3</th>\n",
                            "      <td>4.7</td>\n",
                            "      <td>3.2</td>\n",
                            "      <td>1.3</td>\n",
                            "      <td>0.2</td>\n",
                            "      <td>Iris-setosa</td>\n",
                            "    </tr>\n",
                            "    <tr>\n",
                            "      <th>4</th>\n",
                            "      <td>4.6</td>\n",
                            "      <td>3.1</td>\n",
                            "      <td>1.5</td>\n",
                            "      <td>0.2</td>\n",
                            "      <td>Iris-setosa</td>\n",
                            "    </tr>\n",
                            "    <tr>\n",
                            "      <th>5</th>\n",
                            "      <td>5.0</td>\n",
                            "      <td>3.6</td>\n",
                            "      <td>1.4</td>\n",
                            "      <td>0.2</td>\n",
                            "      <td>Iris-setosa</td>\n",
                            "    </tr>\n",
                            "    <tr>\n",
                            "      <th>...</th>\n",
                            "      <td>...</td>\n",
                            "      <td>...</td>\n",
                            "      <td>...</td>\n",
                            "      <td>...</td>\n",
                            "      <td>...</td>\n",
                            "    </tr>\n",
                            "    <tr>\n",
                            "      <th>146</th>\n",
                            "      <td>6.7</td>\n",
                            "      <td>3.0</td>\n",
                            "      <td>5.2</td>\n",
                            "      <td>2.3</td>\n",
                            "      <td>Iris-virginica</td>\n",
                            "    </tr>\n",
                            "    <tr>\n",
                            "      <th>147</th>\n",
                            "      <td>6.3</td>\n",
                            "      <td>2.5</td>\n",
                            "      <td>5.0</td>\n",
                            "      <td>1.9</td>\n",
                            "      <td>Iris-virginica</td>\n",
                            "    </tr>\n",
                            "    <tr>\n",
                            "      <th>148</th>\n",
                            "      <td>6.5</td>\n",
                            "      <td>3.0</td>\n",
                            "      <td>5.2</td>\n",
                            "      <td>2.0</td>\n",
                            "      <td>Iris-virginica</td>\n",
                            "    </tr>\n",
                            "    <tr>\n",
                            "      <th>149</th>\n",
                            "      <td>6.2</td>\n",
                            "      <td>3.4</td>\n",
                            "      <td>5.4</td>\n",
                            "      <td>2.3</td>\n",
                            "      <td>Iris-virginica</td>\n",
                            "    </tr>\n",
                            "    <tr>\n",
                            "      <th>150</th>\n",
                            "      <td>5.9</td>\n",
                            "      <td>3.0</td>\n",
                            "      <td>5.1</td>\n",
                            "      <td>1.8</td>\n",
                            "      <td>Iris-virginica</td>\n",
                            "    </tr>\n",
                            "  </tbody>\n",
                            "</table>\n",
                            "<p>150 rows × 5 columns</p>\n",
                            "</div>"
                        ]
                    },
                    "metadata": {},
                    "execution_count": 223
                }
            ],
            "metadata": {}
        },
        {
            "cell_type": "code",
            "execution_count": 224,
            "source": [
                "X = data.iloc[:, :4]         #define x\r\n",
                "y = data.loc[:,['Species']]  #define y "
            ],
            "outputs": [],
            "metadata": {}
        },
        {
            "cell_type": "markdown",
            "source": [
                "# Test and Train data"
            ],
            "metadata": {}
        },
        {
            "cell_type": "code",
            "execution_count": 225,
            "source": [
                "X_train, X_test, y_train, y_test = train_test_split(X, y, test_size=0.2, random_state=45)   #divide data into test and train\r\n",
                "\r\n",
                "clf = DecisionTreeClassifier()   #call the decision tree classifier\r\n",
                "clf.fit(X_train,y_train)         #fit the data into the model"
            ],
            "outputs": [
                {
                    "output_type": "execute_result",
                    "data": {
                        "text/plain": [
                            "DecisionTreeClassifier()"
                        ]
                    },
                    "metadata": {},
                    "execution_count": 225
                }
            ],
            "metadata": {}
        },
        {
            "cell_type": "code",
            "execution_count": 226,
            "source": [
                "pred = clf.predict(X_test)     #predict the values using test data\r\n",
                "accuracy_score(pred,y_test)    #calculate the accuracy by comparing the test and predicted values\r\n"
            ],
            "outputs": [
                {
                    "output_type": "execute_result",
                    "data": {
                        "text/plain": [
                            "0.9666666666666667"
                        ]
                    },
                    "metadata": {},
                    "execution_count": 226
                }
            ],
            "metadata": {}
        },
        {
            "cell_type": "code",
            "execution_count": 227,
            "source": [
                "confusion_matrix(y_test,pred)    #create a confision matrix \r\n"
            ],
            "outputs": [
                {
                    "output_type": "execute_result",
                    "data": {
                        "text/plain": [
                            "array([[11,  0,  0],\n",
                            "       [ 0,  7,  0],\n",
                            "       [ 0,  1, 11]], dtype=int64)"
                        ]
                    },
                    "metadata": {},
                    "execution_count": 227
                }
            ],
            "metadata": {}
        },
        {
            "cell_type": "markdown",
            "source": [
                "# Plot the decision tree "
            ],
            "metadata": {}
        },
        {
            "cell_type": "code",
            "execution_count": 228,
            "source": [
                "tree.plot_tree(clf, filled=True, rounded=True)   #plot the decision tree"
            ],
            "outputs": [
                {
                    "output_type": "execute_result",
                    "data": {
                        "text/plain": [
                            "[Text(181.35000000000002, 201.90857142857143, 'X[2] <= 2.45\\ngini = 0.666\\nsamples = 120\\nvalue = [39, 43, 38]'),\n",
                            " Text(153.45000000000002, 170.84571428571428, 'gini = 0.0\\nsamples = 39\\nvalue = [39, 0, 0]'),\n",
                            " Text(209.25000000000003, 170.84571428571428, 'X[3] <= 1.75\\ngini = 0.498\\nsamples = 81\\nvalue = [0, 43, 38]'),\n",
                            " Text(139.5, 139.78285714285715, 'X[2] <= 5.35\\ngini = 0.124\\nsamples = 45\\nvalue = [0, 42, 3]'),\n",
                            " Text(111.60000000000001, 108.72, 'X[3] <= 1.65\\ngini = 0.087\\nsamples = 44\\nvalue = [0, 42, 2]'),\n",
                            " Text(55.800000000000004, 77.65714285714284, 'X[2] <= 4.95\\ngini = 0.046\\nsamples = 42\\nvalue = [0, 41, 1]'),\n",
                            " Text(27.900000000000002, 46.59428571428572, 'gini = 0.0\\nsamples = 40\\nvalue = [0, 40, 0]'),\n",
                            " Text(83.7, 46.59428571428572, 'X[1] <= 2.45\\ngini = 0.5\\nsamples = 2\\nvalue = [0, 1, 1]'),\n",
                            " Text(55.800000000000004, 15.531428571428563, 'gini = 0.0\\nsamples = 1\\nvalue = [0, 0, 1]'),\n",
                            " Text(111.60000000000001, 15.531428571428563, 'gini = 0.0\\nsamples = 1\\nvalue = [0, 1, 0]'),\n",
                            " Text(167.4, 77.65714285714284, 'X[0] <= 5.8\\ngini = 0.5\\nsamples = 2\\nvalue = [0, 1, 1]'),\n",
                            " Text(139.5, 46.59428571428572, 'gini = 0.0\\nsamples = 1\\nvalue = [0, 0, 1]'),\n",
                            " Text(195.3, 46.59428571428572, 'gini = 0.0\\nsamples = 1\\nvalue = [0, 1, 0]'),\n",
                            " Text(167.4, 108.72, 'gini = 0.0\\nsamples = 1\\nvalue = [0, 0, 1]'),\n",
                            " Text(279.0, 139.78285714285715, 'X[2] <= 4.85\\ngini = 0.054\\nsamples = 36\\nvalue = [0, 1, 35]'),\n",
                            " Text(251.10000000000002, 108.72, 'X[1] <= 3.1\\ngini = 0.444\\nsamples = 3\\nvalue = [0, 1, 2]'),\n",
                            " Text(223.20000000000002, 77.65714285714284, 'gini = 0.0\\nsamples = 2\\nvalue = [0, 0, 2]'),\n",
                            " Text(279.0, 77.65714285714284, 'gini = 0.0\\nsamples = 1\\nvalue = [0, 1, 0]'),\n",
                            " Text(306.90000000000003, 108.72, 'gini = 0.0\\nsamples = 33\\nvalue = [0, 0, 33]')]"
                        ]
                    },
                    "metadata": {},
                    "execution_count": 228
                },
                {
                    "output_type": "display_data",
                    "data": {
                        "text/plain": [
                            "<Figure size 432x288 with 1 Axes>"
                        ],
                        "image/png": "[encoded data removed]"
                    },
                    "metadata": {
                        "needs_background": "light"
                    }
                }
            ],
            "metadata": {}
        }
    ],
    "metadata": {
        "orig_nbformat": 4,
        "language_info": {
            "name": "python"
        }
    },
    "nbformat": 4,
    "nbformat_minor": 2
}